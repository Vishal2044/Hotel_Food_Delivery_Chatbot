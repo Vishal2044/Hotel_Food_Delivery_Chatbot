{
 "cells": [
  {
   "cell_type": "code",
   "execution_count": null,
   "metadata": {},
   "outputs": [
    {
     "data": {
      "application/vnd.jupyter.widget-view+json": {
       "model_id": "e4357e2152de4084aa45c3c493c1e031",
       "version_major": 2,
       "version_minor": 0
      },
      "text/plain": [
       "Dropdown(description='Select Question:', index=12, options=('What are your operating hours?', 'Do you offer ve…"
      ]
     },
     "metadata": {},
     "output_type": "display_data"
    },
    {
     "data": {
      "application/vnd.jupyter.widget-view+json": {
       "model_id": "e4664c236bc646d1a10d0b7fcd54e7a4",
       "version_major": 2,
       "version_minor": 0
      },
      "text/plain": [
       "Button(description='Voice Input', style=ButtonStyle())"
      ]
     },
     "metadata": {},
     "output_type": "display_data"
    },
    {
     "name": "stdout",
     "output_type": "stream",
     "text": [
      "Response: Yes, you can schedule a delivery time while placing your order.\n"
     ]
    },
    {
     "data": {
      "application/vnd.jupyter.widget-view+json": {
       "model_id": "3c2d78c25fda41c1811a6b44c360a66b",
       "version_major": 2,
       "version_minor": 0
      },
      "text/plain": [
       "Button(description='Restart Chat', style=ButtonStyle())"
      ]
     },
     "metadata": {},
     "output_type": "display_data"
    },
    {
     "name": "stdout",
     "output_type": "stream",
     "text": [
      "Listening...\n",
      "User said: Wi-Fi password\n",
      "Response: The Wi-Fi password is 'guest123'.\n"
     ]
    },
    {
     "data": {
      "application/vnd.jupyter.widget-view+json": {
       "model_id": "3c2d78c25fda41c1811a6b44c360a66b",
       "version_major": 2,
       "version_minor": 0
      },
      "text/plain": [
       "Button(description='Restart Chat', style=ButtonStyle())"
      ]
     },
     "metadata": {},
     "output_type": "display_data"
    },
    {
     "name": "stdout",
     "output_type": "stream",
     "text": [
      "Listening...\n",
      "User said: parking available\n",
      "Response: Yes, we have parking available for our customers.\n"
     ]
    },
    {
     "data": {
      "application/vnd.jupyter.widget-view+json": {
       "model_id": "3c2d78c25fda41c1811a6b44c360a66b",
       "version_major": 2,
       "version_minor": 0
      },
      "text/plain": [
       "Button(description='Restart Chat', style=ButtonStyle())"
      ]
     },
     "metadata": {},
     "output_type": "display_data"
    }
   ],
   "source": [
    "%pip install speechrecognition pyaudio\n",
    "%pip install pyttsx3\n",
    "\n",
    "import numpy as np\n",
    "import pandas as pd\n",
    "import tensorflow as tf\n",
    "from tensorflow.keras.preprocessing.text import Tokenizer\n",
    "from tensorflow.keras.preprocessing.sequence import pad_sequences\n",
    "from tensorflow.keras.models import Model\n",
    "from tensorflow.keras.layers import Input, Embedding, LSTM, Dense, RepeatVector, TimeDistributed\n",
    "from sklearn.feature_extraction.text import TfidfVectorizer\n",
    "from sklearn.metrics.pairwise import cosine_similarity\n",
    "import speech_recognition as sr\n",
    "import ipywidgets as widgets\n",
    "from IPython.display import display, clear_output\n",
    "import pyttsx3\n",
    "\n",
    "print(\"TensorFlow Version:\", tf.__version__)\n",
    "\n",
    "# Initial dataset\n",
    "data = {\n",
    "    \"questions\": [        \n",
    "        \"What are your operating hours?\",\n",
    "        \"Do you offer vegan options?\",\n",
    "        \"Is there outdoor seating?\",\n",
    "        \"Can I make a reservation?\",\n",
    "        \"What is the Wi-Fi password?\",\n",
    "        \"Do you have parking available?\",\n",
    "        \"Can I place an order for pickup?\",\n",
    "        \"Do you offer delivery services?\",\n",
    "        \"What is your refund policy?\",\n",
    "        \"Are pets allowed?\",\n",
    "    ],\n",
    "    \"responses\": [\n",
    "        \"We are open from 8 AM to 10 PM.\",\n",
    "        \"Yes, we offer a variety of vegan dishes.\",\n",
    "        \"Yes, we have a beautiful outdoor seating area.\",\n",
    "        \"Yes, you can make a reservation through our website or by calling us.\",\n",
    "        \"The Wi-Fi password is 'guest123'.\",\n",
    "        \"Yes, we have parking available for our customers.\",\n",
    "        \"Yes, you can place an order for pickup through our website.\",\n",
    "        \"Yes, we offer delivery through our app.\",\n",
    "        \"You can request a refund within 24 hours of your purchase.\",\n",
    "        \"Yes, pets are allowed in the outdoor seating area.\",\n",
    "    ]\n",
    "}\n",
    "\n",
    "# Add additional questions and responses\n",
    "additional_data = {\n",
    "    \"questions\": [\n",
    "        \"Do you offer gluten-free options?\",\n",
    "        \"Can I customize my order?\",\n",
    "        \"What is your most popular dish?\",\n",
    "        \"Are there any new items on the menu?\",\n",
    "        \"Can I schedule a delivery for later?\",\n",
    "        \"Do you have any combo offers?\",\n",
    "        \"What are your payment options?\",\n",
    "        \"Can I cancel my order?\",\n",
    "        \"Is there a minimum order amount?\",\n",
    "        \"How can I give feedback on my order?\"\n",
    "    ],\n",
    "    \"responses\": [\n",
    "        \"Yes, we offer gluten-free pasta and pizza.\",\n",
    "        \"Yes, you can customize your order through our app or website.\",\n",
    "        \"Our most popular dish is the margherita pizza.\",\n",
    "        \"Yes, we have recently added sushi to our menu.\",\n",
    "        \"Yes, you can schedule a delivery time while placing your order.\",\n",
    "        \"Yes, we have combo offers available in the app.\",\n",
    "        \"You can pay via credit card, debit card, or mobile payments.\",\n",
    "        \"Yes, you can cancel your order within 10 minutes of placing it.\",\n",
    "        \"There is no minimum order amount.\",\n",
    "        \"You can give feedback through our app or website.\",\n",
    "    ]\n",
    "}\n",
    "\n",
    "# Combine the new data with the original dataset\n",
    "data['questions'].extend(additional_data['questions'])\n",
    "data['responses'].extend(additional_data['responses'])\n",
    "\n",
    "# Update the dataframe\n",
    "df = pd.DataFrame(data)\n",
    "\n",
    "# Tokenization and Padding\n",
    "tokenizer = Tokenizer()\n",
    "tokenizer.fit_on_texts(df['questions'] + df['responses'])\n",
    "vocab_size = len(tokenizer.word_index) + 1\n",
    "max_len = max([len(seq) for seq in tokenizer.texts_to_sequences(df['questions'] + df['responses'])])\n",
    "\n",
    "X = tokenizer.texts_to_sequences(df['questions'])\n",
    "X = pad_sequences(X, maxlen=max_len, padding='post')\n",
    "\n",
    "y = tokenizer.texts_to_sequences(df['responses'])\n",
    "y = pad_sequences(y, maxlen=max_len, padding='post')\n",
    "\n",
    "# Prepare Decoder Input Data\n",
    "decoder_input_data = np.zeros((len(y), max_len, vocab_size))\n",
    "for i, seq in enumerate(y):\n",
    "    for t in range(len(seq) - 1):\n",
    "        decoder_input_data[i, t, seq[t]] = 1\n",
    "\n",
    "# Prepare Decoder Output Data\n",
    "decoder_output_data = np.zeros((len(y), max_len, vocab_size))\n",
    "for i, seq in enumerate(y):\n",
    "    for t in range(len(seq)):\n",
    "        decoder_output_data[i, t, seq[t]] = 1\n",
    "\n",
    "# Build the Model\n",
    "encoder_inputs = Input(shape=(max_len,))\n",
    "encoder_embedding = Embedding(input_dim=vocab_size, output_dim=128)(encoder_inputs)\n",
    "encoder_lstm = LSTM(64, return_sequences=False)(encoder_embedding)\n",
    "encoder_outputs = RepeatVector(max_len)(encoder_lstm)\n",
    "\n",
    "decoder_inputs = Input(shape=(max_len, vocab_size))\n",
    "decoder_lstm = LSTM(64, return_sequences=True)(decoder_inputs)\n",
    "decoder_outputs = TimeDistributed(Dense(vocab_size, activation='softmax'))(decoder_lstm)\n",
    "\n",
    "model = Model([encoder_inputs, decoder_inputs], decoder_outputs)\n",
    "model.compile(optimizer='adam', loss='categorical_crossentropy', metrics=['accuracy'])\n",
    "model.summary()\n",
    "\n",
    "# Train the Model\n",
    "history = model.fit([X, decoder_input_data], decoder_output_data, epochs=100, batch_size=8, validation_split=0.2)\n",
    "\n",
    "# TF-IDF Vectorizer\n",
    "vectorizer = TfidfVectorizer()\n",
    "vectorizer.fit(df['questions'])\n",
    "question_vectors = vectorizer.transform(df['questions'])\n",
    "\n",
    "def get_closest_question(user_input):\n",
    "    user_vector = vectorizer.transform([user_input])\n",
    "    similarities = cosine_similarity(user_vector, question_vectors)\n",
    "    closest_index = np.argmax(similarities)\n",
    "    return df['responses'][closest_index]\n",
    "\n",
    "# Text-to-Speech Engine\n",
    "engine = pyttsx3.init()\n",
    "\n",
    "def speak_text(text):\n",
    "    engine.say(text)\n",
    "    engine.runAndWait()\n",
    "\n",
    "# Dropdown Menu for User Input\n",
    "dropdown = widgets.Dropdown(\n",
    "    options=df['questions'].tolist(),\n",
    "    description='Select Question:',\n",
    "    disabled=False,\n",
    ")\n",
    "\n",
    "def on_change(change):\n",
    "    if change['type'] == 'change' and change['name'] == 'value':\n",
    "        response = get_closest_question(change['new'])\n",
    "        print(f\"Response: {response}\")\n",
    "        speak_text(response)\n",
    "        display_restart_button()\n",
    "\n",
    "dropdown.observe(on_change)\n",
    "\n",
    "display(dropdown)\n",
    "\n",
    "# Voice Recognition and Reply\n",
    "def recognize_speech():\n",
    "    recognizer = sr.Recognizer()\n",
    "    mic = sr.Microphone()\n",
    "\n",
    "    with mic as source:\n",
    "        print(\"Listening...\")\n",
    "        audio = recognizer.listen(source)\n",
    "\n",
    "    try:\n",
    "        user_input = recognizer.recognize_google(audio)\n",
    "        print(f\"User said: {user_input}\")\n",
    "        response = get_closest_question(user_input)\n",
    "        print(f\"Response: {response}\")\n",
    "        speak_text(response)\n",
    "        display_restart_button()\n",
    "    except sr.UnknownValueError:\n",
    "        print(\"Sorry, I did not understand that.\")\n",
    "        speak_text(\"Sorry, I did not understand that.\")\n",
    "    except sr.RequestError:\n",
    "        print(\"Sorry, there seems to be a request error.\")\n",
    "        speak_text(\"Sorry, there seems to be a request error.\")\n",
    "\n",
    "# Add a button for voice input\n",
    "voice_button = widgets.Button(description=\"Voice Input\")\n",
    "\n",
    "def on_voice_button_click(b):\n",
    "    recognize_speech()\n",
    "\n",
    "voice_button.on_click(on_voice_button_click)\n",
    "display(voice_button)\n",
    "\n",
    "# Add a button to restart the chat\n",
    "restart_button = widgets.Button(description=\"Restart Chat\")\n",
    "\n",
    "def on_restart_button_click(b):\n",
    "    clear_output()\n",
    "    display(dropdown)\n",
    "    display(voice_button)\n",
    "\n",
    "def display_restart_button():\n",
    "    display(restart_button)\n",
    "\n",
    "restart_button.on_click(on_restart_button_click)\n"
   ]
  }
 ],
 "metadata": {
  "kernelspec": {
   "display_name": "Python 3",
   "language": "python",
   "name": "python3"
  },
  "language_info": {
   "codemirror_mode": {
    "name": "ipython",
    "version": 3
   },
   "file_extension": ".py",
   "mimetype": "text/x-python",
   "name": "python",
   "nbconvert_exporter": "python",
   "pygments_lexer": "ipython3",
   "version": "3.12.4"
  }
 },
 "nbformat": 4,
 "nbformat_minor": 2
}
