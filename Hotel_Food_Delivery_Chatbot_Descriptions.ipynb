{
  "cells": [
    {
      "cell_type": "markdown",
      "metadata": {},
      "source": [
        "Yeh code ek AI-based chatbot banata hai jo text aur voice input dono handle kar sakta hai. Chatbot ko customer queries ke jawab dene ke liye train kiya gaya hai, jaise ke restaurant ya hotel mein log jo sawal puchte hain. Yeh chatbot natural language processing (NLP) aur machine learning techniques ka use karke user queries ko samajhta aur unke sahi jawab deta hai. Main points ko samajhne ke liye, yeh raha ek step-by-step explanation:\n",
        "\n",
        "### 1. **Libraries Install karna:**\n",
        "- **`speechrecognition` aur `pyaudio`**: Voice input ko capture karne ke liye.\n",
        "- **`pyttsx3`**: Text-to-speech conversion ke liye.\n",
        "- **`TensorFlow` aur `Keras`**: Neural network model banane ke liye.\n",
        "\n",
        "### 2. **Initial Dataset:**\n",
        "- Questions aur responses ke sets define kiye gaye hain jo chatbot ko answers dene mein help karenge. Pehle 10 questions aur unke answers diye gaye hain.\n",
        "\n",
        "### 3. **Additional Data:**\n",
        "- Baad mein kuch aur questions aur unke answers add kiye gaye hain taaki chatbot zyada variety of questions handle kar sake.\n",
        "\n",
        "### 4. **Dataframe Creation:**\n",
        "- Pandas library ka use karke questions aur responses ko dataframe mein convert kiya gaya hai.\n",
        "\n",
        "### 5. **Tokenization aur Padding:**\n",
        "- **`Tokenizer`** use kiya gaya hai taaki text data ko numbers mein convert kiya ja sake, jo neural network samajh sake.\n",
        "- **`pad_sequences`** se sequence ko ek fixed length ka banaya gaya hai taaki sab inputs same size ke ho.\n",
        "\n",
        "### 6. **Decoder Input aur Output Data Preparation:**\n",
        "- Input aur output data ko neural network ke liye prepare kiya gaya hai, jahaan sequence of words ko one-hot encoding ke format mein convert kiya gaya hai.\n",
        "\n",
        "### 7. **Model Building:**\n",
        "- **Encoder** aur **Decoder** layers banayi gayi hain jo questions ko answers mein convert karne ka kaam karti hain.\n",
        "- LSTM (Long Short-Term Memory) layer use ki gayi hai jo sequential data (text) ko process karne mein madad karti hai.\n",
        "- Model compile kiya gaya hai aur categorical crossentropy loss function aur Adam optimizer use kiya gaya hai.\n",
        "\n",
        "### 8. **Model Training:**\n",
        "- **`model.fit`** se model ko train kiya gaya hai 100 epochs tak, jahaan 80% data training ke liye aur 20% data validation ke liye use hua.\n",
        "\n",
        "### 9. **TF-IDF Vectorization:**\n",
        "- **`TfidfVectorizer`** use kiya gaya hai taaki questions ko vectorize kiya ja sake aur unka comparison ho sake. Yeh help karta hai chatbot ko closest matching question ka response dene mein.\n",
        "\n",
        "### 10. **Text-to-Speech Conversion:**\n",
        "- **`pyttsx3`** ka use karke text ko speech mein convert kiya gaya hai, taaki chatbot apna response suna bhi sake.\n",
        "\n",
        "### 11. **Dropdown Menu for Text Input:**\n",
        "- User ko questions ka dropdown diya gaya hai jismein se woh select kar sakte hain. Jab user question select karega, chatbot uska jawab dega aur usko bolke sunayega.\n",
        "\n",
        "### 12. **Voice Recognition and Reply:**\n",
        "- **`speech_recognition`** library se voice input capture kiya jata hai. User jo bolega usko recognize karne ke baad, chatbot uska jawab dega.\n",
        "\n",
        "### 13. **Buttons for Interaction:**\n",
        "- Ek button diya gaya hai voice input ke liye, jisme click karne pe voice recognition feature activate hota hai.\n",
        "- Dusra button diya gaya hai chat ko restart karne ke liye, jo UI ko reset karta hai taaki user nayi query dal sake.\n",
        "\n",
        "Is chatbot ko banane ka main maksad yeh hai ke yeh automatically user ke questions ko samajh ke unhe relevant jawab de sake, chahe text input ho ya voice input."
      ]
    }
  ],
  "metadata": {
    "colab": {
      "provenance": []
    },
    "kernelspec": {
      "display_name": "Python 3",
      "name": "python3"
    },
    "language_info": {
      "codemirror_mode": {
        "name": "ipython",
        "version": 3
      },
      "file_extension": ".py",
      "mimetype": "text/x-python",
      "name": "python",
      "nbconvert_exporter": "python",
      "pygments_lexer": "ipython3",
      "version": "3.12.4"
    },
    "widgets": {
      "application/vnd.jupyter.widget-state+json": {
        "01cc51190d1942bba9ca684967c691a8": {
          "model_module": "@jupyter-widgets/controls",
          "model_module_version": "1.5.0",
          "model_name": "DropdownModel",
          "state": {
            "_dom_classes": [],
            "_model_module": "@jupyter-widgets/controls",
            "_model_module_version": "1.5.0",
            "_model_name": "DropdownModel",
            "_options_labels": [
              "What is the menu for today?",
              "Can I order food?",
              "What are your special dishes?",
              "How long will the delivery take?",
              "What are the delivery charges?",
              "Can I see the menu?",
              "Are there any discounts?",
              "What are your vegan options?",
              "What time does the kitchen close?",
              "How can I pay for my order?"
            ],
            "_view_count": null,
            "_view_module": "@jupyter-widgets/controls",
            "_view_module_version": "1.5.0",
            "_view_name": "DropdownView",
            "description": "Select Question:",
            "description_tooltip": null,
            "disabled": false,
            "index": 5,
            "layout": "IPY_MODEL_5bf6385960b145d791bded12840bf782",
            "style": "IPY_MODEL_d022b19aa00f4a57a564046e8c075966"
          }
        },
        "5bf6385960b145d791bded12840bf782": {
          "model_module": "@jupyter-widgets/base",
          "model_module_version": "1.2.0",
          "model_name": "LayoutModel",
          "state": {
            "_model_module": "@jupyter-widgets/base",
            "_model_module_version": "1.2.0",
            "_model_name": "LayoutModel",
            "_view_count": null,
            "_view_module": "@jupyter-widgets/base",
            "_view_module_version": "1.2.0",
            "_view_name": "LayoutView",
            "align_content": null,
            "align_items": null,
            "align_self": null,
            "border": null,
            "bottom": null,
            "display": null,
            "flex": null,
            "flex_flow": null,
            "grid_area": null,
            "grid_auto_columns": null,
            "grid_auto_flow": null,
            "grid_auto_rows": null,
            "grid_column": null,
            "grid_gap": null,
            "grid_row": null,
            "grid_template_areas": null,
            "grid_template_columns": null,
            "grid_template_rows": null,
            "height": null,
            "justify_content": null,
            "justify_items": null,
            "left": null,
            "margin": null,
            "max_height": null,
            "max_width": null,
            "min_height": null,
            "min_width": null,
            "object_fit": null,
            "object_position": null,
            "order": null,
            "overflow": null,
            "overflow_x": null,
            "overflow_y": null,
            "padding": null,
            "right": null,
            "top": null,
            "visibility": null,
            "width": null
          }
        },
        "d022b19aa00f4a57a564046e8c075966": {
          "model_module": "@jupyter-widgets/controls",
          "model_module_version": "1.5.0",
          "model_name": "DescriptionStyleModel",
          "state": {
            "_model_module": "@jupyter-widgets/controls",
            "_model_module_version": "1.5.0",
            "_model_name": "DescriptionStyleModel",
            "_view_count": null,
            "_view_module": "@jupyter-widgets/base",
            "_view_module_version": "1.2.0",
            "_view_name": "StyleView",
            "description_width": ""
          }
        }
      }
    }
  },
  "nbformat": 4,
  "nbformat_minor": 0
}
